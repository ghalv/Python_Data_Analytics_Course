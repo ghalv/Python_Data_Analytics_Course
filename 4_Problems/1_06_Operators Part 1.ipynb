{
 "cells": [
  {
   "cell_type": "markdown",
   "id": "8ab55aca",
   "metadata": {
    "id": "8ab55aca"
   },
   "source": [
    "<a target=\"_blank\" href=\"https://colab.research.google.com/github/lukebarousse/Python_Data_Analytics_Course/blob/main/4_Problems/1_06_Operators Part 1.ipynb\">\n",
    "  <img src=\"https://colab.research.google.com/assets/colab-badge.svg\" alt=\"Open In Colab\"/>\n",
    "</a>"
   ]
  },
  {
   "cell_type": "markdown",
   "id": "5c28e09e",
   "metadata": {
    "id": "5c28e09e"
   },
   "source": [
    "## 🟩 Calculate Annual Salary (1.6.1)"
   ]
  },
  {
   "cell_type": "code",
   "execution_count": 1,
   "id": "f5eae247",
   "metadata": {
    "colab": {
     "base_uri": "https://localhost:8080/"
    },
    "executionInfo": {
     "elapsed": 412,
     "status": "ok",
     "timestamp": 1719076323437,
     "user": {
      "displayName": "Cerex AS",
      "userId": "01498686115453394556"
     },
     "user_tz": -120
    },
    "id": "f5eae247",
    "outputId": "465cf047-66ae-4687-ea41-8bc60e9feec3"
   },
   "outputs": [
    {
     "name": "stdout",
     "output_type": "stream",
     "text": [
      "96000\n"
     ]
    }
   ],
   "source": [
    "# Code Needed\n",
    "monthly_salary = 8000\n",
    "annual_salary = monthly_salary * 12\n",
    "print(annual_salary)"
   ]
  },
  {
   "cell_type": "markdown",
   "id": "75a63b15",
   "metadata": {
    "id": "75a63b15"
   },
   "source": [
    "---"
   ]
  },
  {
   "cell_type": "markdown",
   "id": "9f50032f",
   "metadata": {
    "id": "9f50032f"
   },
   "source": [
    "## 🟩 Compare Salaries (1.6.2)"
   ]
  },
  {
   "cell_type": "code",
   "execution_count": 2,
   "id": "d74e5eec",
   "metadata": {
    "colab": {
     "base_uri": "https://localhost:8080/"
    },
    "executionInfo": {
     "elapsed": 329,
     "status": "ok",
     "timestamp": 1719076461071,
     "user": {
      "displayName": "Cerex AS",
      "userId": "01498686115453394556"
     },
     "user_tz": -120
    },
    "id": "d74e5eec",
    "outputId": "9b7af9e5-20cd-461d-df5f-9854461602b3"
   },
   "outputs": [
    {
     "name": "stdout",
     "output_type": "stream",
     "text": [
      "Avg salary scientist is higher\n"
     ]
    }
   ],
   "source": [
    "# Code Needed\n",
    "avg_salary_analyst = 70000\n",
    "avg_salary_scientist = 85000\n",
    "if avg_salary_analyst > avg_salary_scientist:\n",
    "  print(\"Avg salary analyst is higher\")\n",
    "else:\n",
    "  print(\"Avg salary scientist is higher\")"
   ]
  },
  {
   "cell_type": "markdown",
   "id": "53cabe65",
   "metadata": {
    "id": "53cabe65"
   },
   "source": [
    "---"
   ]
  },
  {
   "cell_type": "markdown",
   "id": "a0898aab",
   "metadata": {
    "id": "a0898aab"
   },
   "source": [
    "## 🟨 Calculate Remainder (1.6.3)"
   ]
  },
  {
   "cell_type": "code",
   "execution_count": 3,
   "id": "97e2ce73",
   "metadata": {
    "colab": {
     "base_uri": "https://localhost:8080/"
    },
    "executionInfo": {
     "elapsed": 384,
     "status": "ok",
     "timestamp": 1719084881971,
     "user": {
      "displayName": "Cerex AS",
      "userId": "01498686115453394556"
     },
     "user_tz": -120
    },
    "id": "97e2ce73",
    "outputId": "cd34e09f-29f8-4754-8185-2837c5038c73"
   },
   "outputs": [
    {
     "name": "stdout",
     "output_type": "stream",
     "text": [
      "56\n"
     ]
    }
   ],
   "source": [
    "# Code Needed\n",
    "total_applications = 123\n",
    "job_openings = 67\n",
    "remainder = total_applications % job_openings\n",
    "print(remainder)"
   ]
  },
  {
   "cell_type": "markdown",
   "id": "f069d320",
   "metadata": {
    "id": "f069d320"
   },
   "source": [
    "---"
   ]
  },
  {
   "cell_type": "markdown",
   "id": "45fb92ab",
   "metadata": {
    "id": "45fb92ab"
   },
   "source": [
    "## 🟨 Increment Job Postings (1.6.4)"
   ]
  },
  {
   "cell_type": "code",
   "execution_count": 4,
   "id": "c05ce14e",
   "metadata": {
    "colab": {
     "base_uri": "https://localhost:8080/"
    },
    "executionInfo": {
     "elapsed": 328,
     "status": "ok",
     "timestamp": 1719085873007,
     "user": {
      "displayName": "Cerex AS",
      "userId": "01498686115453394556"
     },
     "user_tz": -120
    },
    "id": "c05ce14e",
    "outputId": "2e5bdd98-ef5c-44d0-f198-2c2e8cd91d1f"
   },
   "outputs": [
    {
     "name": "stdout",
     "output_type": "stream",
     "text": [
      "25\n"
     ]
    }
   ],
   "source": [
    "# Code Needed\n",
    "job_postings = 20\n",
    "job_postings += 5\n",
    "print(job_postings)"
   ]
  },
  {
   "cell_type": "markdown",
   "id": "c4bf5251",
   "metadata": {
    "id": "c4bf5251"
   },
   "source": [
    "---"
   ]
  },
  {
   "cell_type": "markdown",
   "id": "ffe080db",
   "metadata": {
    "id": "ffe080db"
   },
   "source": [
    "## 🟨 Calculate Average Salary (1.6.5)"
   ]
  },
  {
   "cell_type": "code",
   "execution_count": 5,
   "id": "c5bb9dc1",
   "metadata": {
    "colab": {
     "base_uri": "https://localhost:8080/"
    },
    "executionInfo": {
     "elapsed": 396,
     "status": "ok",
     "timestamp": 1719085915965,
     "user": {
      "displayName": "Cerex AS",
      "userId": "01498686115453394556"
     },
     "user_tz": -120
    },
    "id": "c5bb9dc1",
    "outputId": "ed9ad207-bc6a-4ded-9e5f-0becb4223ec7"
   },
   "outputs": [
    {
     "name": "stdout",
     "output_type": "stream",
     "text": [
      "85000.0\n"
     ]
    }
   ],
   "source": [
    "# Code Needed\n",
    "min_salary = 50000\n",
    "max_salary = 120000\n",
    "avg_salary = (min_salary + max_salary) / 2\n",
    "print(avg_salary)"
   ]
  },
  {
   "cell_type": "markdown",
   "id": "156db404",
   "metadata": {
    "id": "156db404"
   },
   "source": [
    "---"
   ]
  }
 ],
 "metadata": {
  "colab": {
   "provenance": [
    {
     "file_id": "https://github.com/lukebarousse/Python_Data_Analytics_Course/blob/main/4_Problems/1_06_Operators%20Part%201.ipynb",
     "timestamp": 1719076192427
    }
   ]
  },
  "kernelspec": {
   "display_name": "Python 3 (ipykernel)",
   "language": "python",
   "name": "python3"
  },
  "language_info": {
   "codemirror_mode": {
    "name": "ipython",
    "version": 3
   },
   "file_extension": ".py",
   "mimetype": "text/x-python",
   "name": "python",
   "nbconvert_exporter": "python",
   "pygments_lexer": "ipython3",
   "version": "3.12.4"
  }
 },
 "nbformat": 4,
 "nbformat_minor": 5
}
