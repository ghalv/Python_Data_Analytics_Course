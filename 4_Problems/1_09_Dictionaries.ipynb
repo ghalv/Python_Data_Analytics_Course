{
 "cells": [
  {
   "cell_type": "markdown",
   "id": "a0409ef1",
   "metadata": {
    "id": "a0409ef1"
   },
   "source": [
    "<a target=\"_blank\" href=\"https://colab.research.google.com/github/lukebarousse/Python_Data_Analytics_Course/blob/main/4_Problems/1_09_Dictionaries.ipynb\">\n",
    "  <img src=\"https://colab.research.google.com/assets/colab-badge.svg\" alt=\"Open In Colab\"/>\n",
    "</a>"
   ]
  },
  {
   "cell_type": "markdown",
   "id": "e9170a0a",
   "metadata": {
    "id": "e9170a0a"
   },
   "source": [
    "## 🟩 Access Job Postings (1.9.1)"
   ]
  },
  {
   "cell_type": "code",
   "execution_count": 1,
   "id": "c94b145c",
   "metadata": {
    "colab": {
     "base_uri": "https://localhost:8080/"
    },
    "executionInfo": {
     "elapsed": 405,
     "status": "ok",
     "timestamp": 1719152809332,
     "user": {
      "displayName": "Cerex AS",
      "userId": "01498686115453394556"
     },
     "user_tz": -120
    },
    "id": "c94b145c",
    "outputId": "3576f055-9932-47e9-9bcc-e316ee64db24"
   },
   "outputs": [
    {
     "name": "stdout",
     "output_type": "stream",
     "text": [
      "80\n"
     ]
    }
   ],
   "source": [
    "# Code Needed\n",
    "job_postings = {'Data Scientist': 120, 'Data Analyst': 80, 'Machine Learning Engineer': 50}\n",
    "print(job_postings['Data Analyst'])"
   ]
  },
  {
   "cell_type": "markdown",
   "id": "6206eea6",
   "metadata": {
    "id": "6206eea6"
   },
   "source": [
    "---"
   ]
  },
  {
   "cell_type": "markdown",
   "id": "9a967eb2",
   "metadata": {
    "id": "9a967eb2"
   },
   "source": [
    "## 🟩 Add Job Role (1.9.2)"
   ]
  },
  {
   "cell_type": "code",
   "execution_count": 2,
   "id": "e142f46f",
   "metadata": {
    "colab": {
     "base_uri": "https://localhost:8080/"
    },
    "executionInfo": {
     "elapsed": 338,
     "status": "ok",
     "timestamp": 1719152928953,
     "user": {
      "displayName": "Cerex AS",
      "userId": "01498686115453394556"
     },
     "user_tz": -120
    },
    "id": "e142f46f",
    "outputId": "66edf711-1234-4a84-91b1-0a5259439dc8"
   },
   "outputs": [
    {
     "name": "stdout",
     "output_type": "stream",
     "text": [
      "{'Data Scientist': 120, 'Data Analyst': 80, 'Machine Learning Engineer': 50, 'AI Specialist': 30}\n"
     ]
    }
   ],
   "source": [
    "# Code Needed\n",
    "job_postings = {'Data Scientist': 120, 'Data Analyst': 80, 'Machine Learning Engineer': 50}\n",
    "job_postings['AI Specialist'] = 30\n",
    "print(job_postings)"
   ]
  },
  {
   "cell_type": "markdown",
   "id": "3305a885",
   "metadata": {
    "id": "3305a885"
   },
   "source": [
    "---"
   ]
  },
  {
   "cell_type": "markdown",
   "id": "9d1a27ec",
   "metadata": {
    "id": "9d1a27ec"
   },
   "source": [
    "## 🟨 Remove Job Role (1.9.3)"
   ]
  },
  {
   "cell_type": "code",
   "execution_count": 3,
   "id": "3e97c9cc",
   "metadata": {
    "colab": {
     "base_uri": "https://localhost:8080/"
    },
    "executionInfo": {
     "elapsed": 421,
     "status": "ok",
     "timestamp": 1719154322106,
     "user": {
      "displayName": "Cerex AS",
      "userId": "01498686115453394556"
     },
     "user_tz": -120
    },
    "id": "3e97c9cc",
    "outputId": "01d9f317-c0ad-46b7-8a1d-d8529e67b2da"
   },
   "outputs": [
    {
     "name": "stdout",
     "output_type": "stream",
     "text": [
      "{'Data Scientist': 120, 'Data Analyst': 80}\n"
     ]
    }
   ],
   "source": [
    "# Code Needed\n",
    "job_postings = {'Data Scientist': 120, 'Data Analyst': 80, 'Machine Learning Engineer': 50}\n",
    "job_postings.pop('Machine Learning Engineer')\n",
    "print(job_postings)"
   ]
  },
  {
   "cell_type": "markdown",
   "id": "4e805b06",
   "metadata": {
    "id": "4e805b06"
   },
   "source": [
    "---"
   ]
  },
  {
   "cell_type": "markdown",
   "id": "bb334124",
   "metadata": {
    "id": "bb334124"
   },
   "source": [
    "## 🟨 Merge Dictionaries (1.9.4)"
   ]
  },
  {
   "cell_type": "code",
   "execution_count": 4,
   "id": "d2fd3ae2",
   "metadata": {
    "colab": {
     "base_uri": "https://localhost:8080/"
    },
    "executionInfo": {
     "elapsed": 14,
     "status": "ok",
     "timestamp": 1719154435453,
     "user": {
      "displayName": "Cerex AS",
      "userId": "01498686115453394556"
     },
     "user_tz": -120
    },
    "id": "d2fd3ae2",
    "outputId": "ab6270da-69ac-4411-cc2a-30c6f381007f"
   },
   "outputs": [
    {
     "name": "stdout",
     "output_type": "stream",
     "text": [
      "{'Data Scientist': 120, 'Data Analyst': 80, 'Machine Learning Engineer': 50, 'AI Specialist': 30}\n"
     ]
    }
   ],
   "source": [
    "# Code Needed\n",
    "job_postings1 = {'Data Scientist': 120, 'Data Analyst': 80}\n",
    "job_postings2 = {'Machine Learning Engineer': 50, 'AI Specialist': 30}\n",
    "job_postings1.update(job_postings2)\n",
    "print(job_postings1)"
   ]
  },
  {
   "cell_type": "markdown",
   "id": "b61f7b57",
   "metadata": {
    "id": "b61f7b57"
   },
   "source": [
    "---"
   ]
  },
  {
   "cell_type": "markdown",
   "id": "791a349d",
   "metadata": {
    "id": "791a349d"
   },
   "source": [
    "## 🟥 Create Nested Dictionary (1.9.5)"
   ]
  },
  {
   "cell_type": "code",
   "execution_count": 5,
   "id": "b5acf180",
   "metadata": {
    "colab": {
     "base_uri": "https://localhost:8080/"
    },
    "executionInfo": {
     "elapsed": 400,
     "status": "ok",
     "timestamp": 1719154525777,
     "user": {
      "displayName": "Cerex AS",
      "userId": "01498686115453394556"
     },
     "user_tz": -120
    },
    "id": "b5acf180",
    "outputId": "5662d805-6faf-4a95-e770-22470a43d20e"
   },
   "outputs": [
    {
     "name": "stdout",
     "output_type": "stream",
     "text": [
      "{'kasserer': 30, 'maler': 50, 'sveisser': 70}\n"
     ]
    }
   ],
   "source": [
    "job_details = {'kasserer': 30,\n",
    "            'maler': 50,\n",
    "            'sveisser': 70\n",
    "            }\n",
    "print(job_details)"
   ]
  },
  {
   "cell_type": "markdown",
   "id": "30d9f6d7",
   "metadata": {
    "id": "30d9f6d7"
   },
   "source": [
    "---"
   ]
  }
 ],
 "metadata": {
  "colab": {
   "provenance": [
    {
     "file_id": "https://github.com/lukebarousse/Python_Data_Analytics_Course/blob/main/4_Problems/1_09_Dictionaries.ipynb",
     "timestamp": 1719152702341
    }
   ]
  },
  "kernelspec": {
   "display_name": "Python 3 (ipykernel)",
   "language": "python",
   "name": "python3"
  },
  "language_info": {
   "codemirror_mode": {
    "name": "ipython",
    "version": 3
   },
   "file_extension": ".py",
   "mimetype": "text/x-python",
   "name": "python",
   "nbconvert_exporter": "python",
   "pygments_lexer": "ipython3",
   "version": "3.12.4"
  }
 },
 "nbformat": 4,
 "nbformat_minor": 5
}
