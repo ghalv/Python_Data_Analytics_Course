{
 "cells": [
  {
   "cell_type": "markdown",
   "id": "5c289cc9",
   "metadata": {},
   "source": [
    "<a target=\"_blank\" href=\"https://colab.research.google.com/github/lukebarousse/Python_Data_Analytics_Course/blob/main/4_Problems/1_10_Sets.ipynb\">\n",
    "  <img src=\"https://colab.research.google.com/assets/colab-badge.svg\" alt=\"Open In Colab\"/>\n",
    "</a>"
   ]
  },
  {
   "cell_type": "markdown",
   "id": "96889df9",
   "metadata": {},
   "source": [
    "## 🟩 Add Job Title to Set (1.10.1)"
   ]
  },
  {
   "cell_type": "code",
   "execution_count": 1,
   "id": "6fb688cc",
   "metadata": {},
   "outputs": [
    {
     "name": "stdout",
     "output_type": "stream",
     "text": [
      "{'Data Analyst', 'Data Scientist', 'AI Specialist', 'Machine Learning Engineer'}\n"
     ]
    }
   ],
   "source": [
    "# Code Needed\n",
    "unique_job_titles = {'Data Scientist', 'Data Analyst', 'Machine Learning Engineer'}\n",
    "unique_job_titles.add('AI Specialist')\n",
    "print(unique_job_titles)"
   ]
  },
  {
   "cell_type": "markdown",
   "id": "2ce68b60",
   "metadata": {},
   "source": [
    "---"
   ]
  },
  {
   "cell_type": "markdown",
   "id": "88c8936c",
   "metadata": {},
   "source": [
    "## 🟩 Remove Job Title from Set (1.10.2)"
   ]
  },
  {
   "cell_type": "code",
   "execution_count": 3,
   "id": "dd12611a",
   "metadata": {},
   "outputs": [
    {
     "name": "stdout",
     "output_type": "stream",
     "text": [
      "{'Data Scientist', 'Machine Learning Engineer'}\n"
     ]
    }
   ],
   "source": [
    "# Code Needed\n",
    "unique_job_titles = {'Data Scientist', 'Data Analyst', 'Machine Learning Engineer'}\n",
    "unique_job_titles.remove('Data Analyst')\n",
    "print(unique_job_titles)"
   ]
  },
  {
   "cell_type": "markdown",
   "id": "4c803884",
   "metadata": {},
   "source": [
    "---"
   ]
  },
  {
   "cell_type": "markdown",
   "id": "ec940385",
   "metadata": {},
   "source": [
    "## 🟩 Create Unique Job Locations Set (1.10.3)"
   ]
  },
  {
   "cell_type": "code",
   "execution_count": 6,
   "id": "fd7983e1",
   "metadata": {},
   "outputs": [
    {
     "name": "stdout",
     "output_type": "stream",
     "text": [
      "{'New York', 'San Francisco', 'Austin'}\n"
     ]
    }
   ],
   "source": [
    "# Code Needed\n",
    "job_locations = ['New York', 'San Francisco', 'New York', 'Austin', 'San Francisco']\n",
    "unique_job_locations = set(job_locations)\n",
    "print(unique_job_locations)"
   ]
  },
  {
   "cell_type": "markdown",
   "id": "bfac45d1",
   "metadata": {},
   "source": [
    "---"
   ]
  },
  {
   "cell_type": "markdown",
   "id": "910d6bab",
   "metadata": {},
   "source": [
    "## 🟨 Union of Job Skills Sets (1.10.4)"
   ]
  },
  {
   "cell_type": "code",
   "execution_count": 9,
   "id": "75ba0d0c",
   "metadata": {},
   "outputs": [
    {
     "name": "stdout",
     "output_type": "stream",
     "text": [
      "{'Machine Learning', 'Tableau', 'R', 'Python', 'SQL'}\n"
     ]
    }
   ],
   "source": [
    "# Code Needed\n",
    "skills_set1 = {'Python', 'SQL', 'Tableau'}\n",
    "skills_set2 = {'R', 'SQL', 'Machine Learning'}\n",
    "union_skill_set = skills_set1.union(skills_set2)\n",
    "print(union_skill_set)"
   ]
  },
  {
   "cell_type": "markdown",
   "id": "55d254da",
   "metadata": {},
   "source": [
    "---"
   ]
  }
 ],
 "metadata": {
  "kernelspec": {
   "display_name": "Python 3 (ipykernel)",
   "language": "python",
   "name": "python3"
  },
  "language_info": {
   "codemirror_mode": {
    "name": "ipython",
    "version": 3
   },
   "file_extension": ".py",
   "mimetype": "text/x-python",
   "name": "python",
   "nbconvert_exporter": "python",
   "pygments_lexer": "ipython3",
   "version": "3.12.3"
  }
 },
 "nbformat": 4,
 "nbformat_minor": 5
}
