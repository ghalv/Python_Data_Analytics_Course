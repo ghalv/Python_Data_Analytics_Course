{
 "cells": [
  {
   "cell_type": "markdown",
   "id": "2466476d",
   "metadata": {
    "id": "2466476d"
   },
   "source": [
    "<a target=\"_blank\" href=\"https://colab.research.google.com/github/lukebarousse/Python_Data_Analytics_Course/blob/main/4_Problems/1_02_Variables.ipynb\">\n",
    "  <img src=\"https://colab.research.google.com/assets/colab-badge.svg\" alt=\"Open In Colab\"/>\n",
    "</a>"
   ]
  },
  {
   "cell_type": "markdown",
   "id": "e37d427b",
   "metadata": {
    "id": "e37d427b"
   },
   "source": [
    "## 🟩 Job Postings Count (1.2.1)"
   ]
  },
  {
   "cell_type": "code",
   "execution_count": 1,
   "id": "050c33c7",
   "metadata": {
    "colab": {
     "base_uri": "https://localhost:8080/"
    },
    "executionInfo": {
     "elapsed": 9,
     "status": "ok",
     "timestamp": 1719062892114,
     "user": {
      "displayName": "",
      "userId": ""
     },
     "user_tz": -120
    },
    "id": "050c33c7",
    "outputId": "dcbcb93f-3c16-4b34-a41c-83bd8d8da805"
   },
   "outputs": [
    {
     "name": "stdout",
     "output_type": "stream",
     "text": [
      "42\n"
     ]
    }
   ],
   "source": [
    "job_count = 42\n",
    "print(job_count)"
   ]
  },
  {
   "cell_type": "markdown",
   "id": "d6222211",
   "metadata": {
    "id": "d6222211"
   },
   "source": [
    "---"
   ]
  },
  {
   "cell_type": "markdown",
   "id": "4f5e520d",
   "metadata": {
    "id": "4f5e520d"
   },
   "source": [
    "## 🟩 Job Information (1.2.2)"
   ]
  },
  {
   "cell_type": "code",
   "execution_count": 2,
   "id": "c2ad2c6f",
   "metadata": {
    "colab": {
     "base_uri": "https://localhost:8080/"
    },
    "executionInfo": {
     "elapsed": 345,
     "status": "ok",
     "timestamp": 1719063047409,
     "user": {
      "displayName": "",
      "userId": ""
     },
     "user_tz": -120
    },
    "id": "c2ad2c6f",
    "outputId": "7c193126-1f9d-41f3-82cc-53f4f7fdb3cb"
   },
   "outputs": [
    {
     "name": "stdout",
     "output_type": "stream",
     "text": [
      "Data Engineer Bouvet True\n"
     ]
    }
   ],
   "source": [
    "job_title = \"Data Engineer\"\n",
    "company_name = \"Bouvet\"\n",
    "afh = True\n",
    "\n",
    "print(job_title, company_name, afh)"
   ]
  },
  {
   "cell_type": "markdown",
   "id": "9410701d",
   "metadata": {
    "id": "9410701d"
   },
   "source": [
    "---"
   ]
  },
  {
   "cell_type": "markdown",
   "id": "42b41453",
   "metadata": {
    "id": "42b41453"
   },
   "source": [
    "## 🟨 Calculate Total Compensation (1.2.3)"
   ]
  },
  {
   "cell_type": "code",
   "execution_count": 3,
   "id": "090d299d",
   "metadata": {
    "colab": {
     "base_uri": "https://localhost:8080/"
    },
    "executionInfo": {
     "elapsed": 424,
     "status": "ok",
     "timestamp": 1719063194455,
     "user": {
      "displayName": "",
      "userId": ""
     },
     "user_tz": -120
    },
    "id": "090d299d",
    "outputId": "aebefdfa-75bf-4578-b790-fd358787d401"
   },
   "outputs": [
    {
     "name": "stdout",
     "output_type": "stream",
     "text": [
      "140000\n"
     ]
    }
   ],
   "source": [
    "base_salary = 120000\n",
    "bonus = 20000\n",
    "total_compensation = base_salary + bonus\n",
    "print(total_compensation)"
   ]
  },
  {
   "cell_type": "markdown",
   "id": "265b0fb2",
   "metadata": {
    "id": "265b0fb2"
   },
   "source": [
    "---"
   ]
  },
  {
   "cell_type": "markdown",
   "id": "75d875ee",
   "metadata": {
    "id": "75d875ee"
   },
   "source": [
    "## 🟨 Calculate Monthly Salary (1.2.4)"
   ]
  },
  {
   "cell_type": "code",
   "execution_count": 4,
   "id": "34f25c43",
   "metadata": {
    "colab": {
     "base_uri": "https://localhost:8080/"
    },
    "executionInfo": {
     "elapsed": 298,
     "status": "ok",
     "timestamp": 1719063294065,
     "user": {
      "displayName": "",
      "userId": ""
     },
     "user_tz": -120
    },
    "id": "34f25c43",
    "outputId": "6210c365-a94c-49d1-9fb0-ea4cbad44b64"
   },
   "outputs": [
    {
     "name": "stdout",
     "output_type": "stream",
     "text": [
      "36000.0\n"
     ]
    }
   ],
   "source": [
    "anual_salary = 72_000\n",
    "monthly_salary = anual_salary / 2\n",
    "print(monthly_salary)"
   ]
  },
  {
   "cell_type": "markdown",
   "id": "c56037ed",
   "metadata": {
    "id": "c56037ed"
   },
   "source": [
    "---"
   ]
  },
  {
   "cell_type": "markdown",
   "id": "202fff0c",
   "metadata": {
    "id": "202fff0c"
   },
   "source": [
    "## 🟥 Calculate Total Compensation with Bonus (1.2.5)"
   ]
  },
  {
   "cell_type": "code",
   "execution_count": 5,
   "id": "50ef2f55",
   "metadata": {
    "colab": {
     "base_uri": "https://localhost:8080/"
    },
    "executionInfo": {
     "elapsed": 334,
     "status": "ok",
     "timestamp": 1719064193877,
     "user": {
      "displayName": "",
      "userId": ""
     },
     "user_tz": -120
    },
    "id": "50ef2f55",
    "outputId": "355f547f-47e8-42ac-e05d-db940bdb8c16"
   },
   "outputs": [
    {
     "name": "stdout",
     "output_type": "stream",
     "text": [
      "121000 Data Scientist AI Solutions\n"
     ]
    }
   ],
   "source": [
    "job_title = 'Data Scientist'\n",
    "company_name = 'AI Solutions'\n",
    "salary = 110_000\n",
    "bonus = 10\n",
    "total_compensation = round(salary * (1+(bonus/100)))\n",
    "print(total_compensation, job_title, company_name)"
   ]
  },
  {
   "cell_type": "markdown",
   "id": "e7cda152",
   "metadata": {
    "id": "e7cda152"
   },
   "source": [
    "---"
   ]
  }
 ],
 "metadata": {
  "colab": {
   "provenance": [
    {
     "file_id": "https://github.com/lukebarousse/Python_Data_Analytics_Course/blob/main/4_Problems/1_02_Variables.ipynb",
     "timestamp": 1719064499597
    }
   ]
  },
  "kernelspec": {
   "display_name": "Python 3 (ipykernel)",
   "language": "python",
   "name": "python3"
  },
  "language_info": {
   "codemirror_mode": {
    "name": "ipython",
    "version": 3
   },
   "file_extension": ".py",
   "mimetype": "text/x-python",
   "name": "python",
   "nbconvert_exporter": "python",
   "pygments_lexer": "ipython3",
   "version": "3.12.4"
  }
 },
 "nbformat": 4,
 "nbformat_minor": 5
}
