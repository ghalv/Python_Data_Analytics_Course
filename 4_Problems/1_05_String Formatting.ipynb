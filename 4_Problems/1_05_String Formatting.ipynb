{
 "cells": [
  {
   "cell_type": "markdown",
   "id": "707277df",
   "metadata": {
    "id": "707277df"
   },
   "source": [
    "<a target=\"_blank\" href=\"https://colab.research.google.com/github/lukebarousse/Python_Data_Analytics_Course/blob/main/4_Problems/1_05_String Formatting.ipynb\">\n",
    "  <img src=\"https://colab.research.google.com/assets/colab-badge.svg\" alt=\"Open In Colab\"/>\n",
    "</a>"
   ]
  },
  {
   "cell_type": "markdown",
   "id": "33249ddd",
   "metadata": {
    "id": "33249ddd"
   },
   "source": [
    "## 🟩 Concatenate Strings (1.5.1)"
   ]
  },
  {
   "cell_type": "code",
   "execution_count": 1,
   "id": "f5eb44b1",
   "metadata": {
    "colab": {
     "base_uri": "https://localhost:8080/"
    },
    "executionInfo": {
     "elapsed": 270,
     "status": "ok",
     "timestamp": 1719068099888,
     "user": {
      "displayName": "",
      "userId": ""
     },
     "user_tz": -120
    },
    "id": "f5eb44b1",
    "outputId": "8a06480f-6360-4c60-99ce-fb52e895b35b"
   },
   "outputs": [
    {
     "name": "stdout",
     "output_type": "stream",
     "text": [
      "Job Title: Data Scientist\n"
     ]
    }
   ],
   "source": [
    "# Code Needed\n",
    "job_title = 'Data Scientist'\n",
    "result = 'Job Title: ' + job_title\n",
    "print(result)"
   ]
  },
  {
   "cell_type": "markdown",
   "id": "ceadadd2",
   "metadata": {
    "id": "ceadadd2"
   },
   "source": [
    "---"
   ]
  },
  {
   "cell_type": "markdown",
   "id": "4b752a3b",
   "metadata": {
    "id": "4b752a3b"
   },
   "source": [
    "## 🟩 Format with f-strings (1.5.2)"
   ]
  },
  {
   "cell_type": "code",
   "execution_count": 2,
   "id": "f1dd6630",
   "metadata": {
    "colab": {
     "base_uri": "https://localhost:8080/"
    },
    "executionInfo": {
     "elapsed": 300,
     "status": "ok",
     "timestamp": 1719073052085,
     "user": {
      "displayName": "",
      "userId": ""
     },
     "user_tz": -120
    },
    "id": "f1dd6630",
    "outputId": "0372d7a4-4316-4ad7-f2d6-1fee45ce7850"
   },
   "outputs": [
    {
     "name": "stdout",
     "output_type": "stream",
     "text": [
      "Data Scientist at DataWiz Inc.\n"
     ]
    }
   ],
   "source": [
    "# Code Needed\n",
    "position = 'Data Scientist'\n",
    "company = 'DataWiz Inc.'\n",
    "result = f'{position} at {company}'\n",
    "print(result)"
   ]
  },
  {
   "cell_type": "markdown",
   "id": "f3b9b437",
   "metadata": {
    "id": "f3b9b437"
   },
   "source": [
    "---"
   ]
  },
  {
   "cell_type": "markdown",
   "id": "7ccbfb33",
   "metadata": {
    "id": "7ccbfb33"
   },
   "source": [
    "## 🟩 Format with str.format() (1.5.3)"
   ]
  },
  {
   "cell_type": "code",
   "execution_count": 3,
   "id": "3ad6287a",
   "metadata": {
    "colab": {
     "base_uri": "https://localhost:8080/"
    },
    "executionInfo": {
     "elapsed": 302,
     "status": "ok",
     "timestamp": 1719073226064,
     "user": {
      "displayName": "",
      "userId": ""
     },
     "user_tz": -120
    },
    "id": "3ad6287a",
    "outputId": "53174004-92fd-462c-fc61-9b1723d689fc"
   },
   "outputs": [
    {
     "name": "stdout",
     "output_type": "stream",
     "text": [
      "Role: Data Analyst, skill: Python\n"
     ]
    }
   ],
   "source": [
    "# Code Needed\n",
    "role = 'Data Analyst'\n",
    "skill = 'Python'\n",
    "result = 'Role: {}, skill: {}'.format(role, skill)\n",
    "print(result)"
   ]
  },
  {
   "cell_type": "markdown",
   "id": "553e97a6",
   "metadata": {
    "id": "553e97a6"
   },
   "source": [
    "---"
   ]
  },
  {
   "cell_type": "markdown",
   "id": "2539859a",
   "metadata": {
    "id": "2539859a"
   },
   "source": [
    "## 🟨 Format with %-formatting (1.5.4)"
   ]
  },
  {
   "cell_type": "code",
   "execution_count": 4,
   "id": "88cfb9fa",
   "metadata": {
    "colab": {
     "base_uri": "https://localhost:8080/"
    },
    "executionInfo": {
     "elapsed": 259,
     "status": "ok",
     "timestamp": 1719075777902,
     "user": {
      "displayName": "",
      "userId": ""
     },
     "user_tz": -120
    },
    "id": "88cfb9fa",
    "outputId": "1412c6e3-f437-4cd7-d746-74100e390816"
   },
   "outputs": [
    {
     "name": "stdout",
     "output_type": "stream",
     "text": [
      "Role: Data Engineer, skill: SQL\n"
     ]
    }
   ],
   "source": [
    "# Code Needed\n",
    "role = 'Data Engineer'\n",
    "skill = 'SQL'\n",
    "result = 'Role: %s, skill: %s' % (role, skill)\n",
    "print(result)"
   ]
  },
  {
   "cell_type": "markdown",
   "id": "d6081ce3",
   "metadata": {
    "id": "d6081ce3"
   },
   "source": [
    "---"
   ]
  }
 ],
 "metadata": {
  "colab": {
   "provenance": [
    {
     "file_id": "https://github.com/lukebarousse/Python_Data_Analytics_Course/blob/main/4_Problems/1_05_String%20Formatting.ipynb",
     "timestamp": 1719075785000
    }
   ]
  },
  "kernelspec": {
   "display_name": "Python 3 (ipykernel)",
   "language": "python",
   "name": "python3"
  },
  "language_info": {
   "codemirror_mode": {
    "name": "ipython",
    "version": 3
   },
   "file_extension": ".py",
   "mimetype": "text/x-python",
   "name": "python",
   "nbconvert_exporter": "python",
   "pygments_lexer": "ipython3",
   "version": "3.12.4"
  }
 },
 "nbformat": 4,
 "nbformat_minor": 5
}
