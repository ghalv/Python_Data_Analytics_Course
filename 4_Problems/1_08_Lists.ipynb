{
 "cells": [
  {
   "cell_type": "markdown",
   "id": "1324a683",
   "metadata": {
    "id": "1324a683"
   },
   "source": [
    "<a target=\"_blank\" href=\"https://colab.research.google.com/github/lukebarousse/Python_Data_Analytics_Course/blob/main/4_Problems/1_08_Lists.ipynb\">\n",
    "  <img src=\"https://colab.research.google.com/assets/colab-badge.svg\" alt=\"Open In Colab\"/>\n",
    "</a>"
   ]
  },
  {
   "cell_type": "markdown",
   "id": "1838d998",
   "metadata": {
    "id": "1838d998"
   },
   "source": [
    "## 🟩 Access Second Job Title (1.8.1)"
   ]
  },
  {
   "cell_type": "code",
   "execution_count": 1,
   "id": "1985369d",
   "metadata": {
    "colab": {
     "base_uri": "https://localhost:8080/",
     "height": 36
    },
    "executionInfo": {
     "elapsed": 408,
     "status": "ok",
     "timestamp": 1719137036653,
     "user": {
      "displayName": "Cerex AS",
      "userId": "01498686115453394556"
     },
     "user_tz": -120
    },
    "id": "1985369d",
    "outputId": "e90e9f66-05eb-452c-bec9-76c551e20e6e"
   },
   "outputs": [
    {
     "data": {
      "text/plain": [
       "'Data Analyst'"
      ]
     },
     "execution_count": 1,
     "metadata": {},
     "output_type": "execute_result"
    }
   ],
   "source": [
    "# Code Needed\n",
    "job_titles = ['Data Scientist', 'Data Analyst', 'Machine Learning Engineer']\n",
    "job_titles[1]"
   ]
  },
  {
   "cell_type": "markdown",
   "id": "51c4691d",
   "metadata": {
    "id": "51c4691d"
   },
   "source": [
    "---"
   ]
  },
  {
   "cell_type": "markdown",
   "id": "845d3703",
   "metadata": {
    "id": "845d3703"
   },
   "source": [
    "## 🟩 Change Third Job Title (1.8.2)"
   ]
  },
  {
   "cell_type": "code",
   "execution_count": 2,
   "id": "ec22c646",
   "metadata": {
    "colab": {
     "base_uri": "https://localhost:8080/"
    },
    "executionInfo": {
     "elapsed": 19,
     "status": "ok",
     "timestamp": 1719137309503,
     "user": {
      "displayName": "Cerex AS",
      "userId": "01498686115453394556"
     },
     "user_tz": -120
    },
    "id": "ec22c646",
    "outputId": "ebec707c-4cd8-4d82-c35d-2e62f9fe67cf"
   },
   "outputs": [
    {
     "name": "stdout",
     "output_type": "stream",
     "text": [
      "AI Specialist\n"
     ]
    }
   ],
   "source": [
    "# Code Needed\n",
    "job_titles = ['Data Scientist', 'Data Analyst', 'Machine Learning Engineer']\n",
    "job_titles[2] = 'AI Specialist'\n",
    "print(job_titles[2])"
   ]
  },
  {
   "cell_type": "markdown",
   "id": "f0432a95",
   "metadata": {
    "id": "f0432a95"
   },
   "source": [
    "---"
   ]
  },
  {
   "cell_type": "markdown",
   "id": "03761a20",
   "metadata": {
    "id": "03761a20"
   },
   "source": [
    "## 🟩 Slice Job Titles List (1.8.3)"
   ]
  },
  {
   "cell_type": "code",
   "execution_count": 3,
   "id": "6e2440ca",
   "metadata": {
    "colab": {
     "base_uri": "https://localhost:8080/"
    },
    "executionInfo": {
     "elapsed": 12,
     "status": "ok",
     "timestamp": 1719137437366,
     "user": {
      "displayName": "Cerex AS",
      "userId": "01498686115453394556"
     },
     "user_tz": -120
    },
    "id": "6e2440ca",
    "outputId": "69806f48-33fe-4b37-be98-a52533ac547f"
   },
   "outputs": [
    {
     "data": {
      "text/plain": [
       "['Data Scientist', 'Data Analyst']"
      ]
     },
     "execution_count": 3,
     "metadata": {},
     "output_type": "execute_result"
    }
   ],
   "source": [
    "# Code Needed\n",
    "job_titles = ['Data Scientist', 'Data Analyst', 'Machine Learning Engineer', 'Data Engineer']\n",
    "job_titles[:2]"
   ]
  },
  {
   "cell_type": "markdown",
   "id": "574cb0d1",
   "metadata": {
    "id": "574cb0d1"
   },
   "source": [
    "---"
   ]
  },
  {
   "cell_type": "markdown",
   "id": "251109f7",
   "metadata": {
    "id": "251109f7"
   },
   "source": [
    "## 🟨 Append Job Title (1.8.4)"
   ]
  },
  {
   "cell_type": "code",
   "execution_count": 4,
   "id": "fa121574",
   "metadata": {
    "colab": {
     "base_uri": "https://localhost:8080/"
    },
    "executionInfo": {
     "elapsed": 306,
     "status": "ok",
     "timestamp": 1719138042115,
     "user": {
      "displayName": "Cerex AS",
      "userId": "01498686115453394556"
     },
     "user_tz": -120
    },
    "id": "fa121574",
    "outputId": "ff10becc-adfd-47ab-8bf8-9a29fbda119b"
   },
   "outputs": [
    {
     "name": "stdout",
     "output_type": "stream",
     "text": [
      "['Data Scientist', 'Data Analyst', 'Machine Learning Engineer', 'Data Engineer']\n"
     ]
    }
   ],
   "source": [
    "# Code Needed\n",
    "job_titles = ['Data Scientist', 'Data Analyst', 'Machine Learning Engineer']\n",
    "job_titles.append('Data Engineer')\n",
    "print(job_titles)"
   ]
  },
  {
   "cell_type": "markdown",
   "id": "af25c586",
   "metadata": {
    "id": "af25c586"
   },
   "source": [
    "---"
   ]
  },
  {
   "cell_type": "markdown",
   "id": "e5b2814d",
   "metadata": {
    "id": "e5b2814d"
   },
   "source": [
    "## 🟨 Insert Job Title (1.8.5)"
   ]
  },
  {
   "cell_type": "code",
   "execution_count": 5,
   "id": "82ac8332",
   "metadata": {
    "colab": {
     "base_uri": "https://localhost:8080/"
    },
    "executionInfo": {
     "elapsed": 362,
     "status": "ok",
     "timestamp": 1719138235786,
     "user": {
      "displayName": "Cerex AS",
      "userId": "01498686115453394556"
     },
     "user_tz": -120
    },
    "id": "82ac8332",
    "outputId": "212528f4-ff38-4a09-b1ae-c2ff84d1fdad"
   },
   "outputs": [
    {
     "name": "stdout",
     "output_type": "stream",
     "text": [
      "['Data Scientist', 'Business Analyst', 'Data Analyst', 'Machine Learning Engineer']\n"
     ]
    }
   ],
   "source": [
    "# Code Needed\n",
    "job_titles = ['Data Scientist', 'Data Analyst', 'Machine Learning Engineer']\n",
    "job_titles.insert(1, 'Business Analyst')\n",
    "print(job_titles)"
   ]
  },
  {
   "cell_type": "markdown",
   "id": "5c04345c",
   "metadata": {
    "id": "5c04345c"
   },
   "source": [
    "---"
   ]
  }
 ],
 "metadata": {
  "colab": {
   "provenance": [
    {
     "file_id": "https://github.com/lukebarousse/Python_Data_Analytics_Course/blob/main/4_Problems/1_08_Lists.ipynb",
     "timestamp": 1719136988699
    }
   ]
  },
  "kernelspec": {
   "display_name": "Python 3 (ipykernel)",
   "language": "python",
   "name": "python3"
  },
  "language_info": {
   "codemirror_mode": {
    "name": "ipython",
    "version": 3
   },
   "file_extension": ".py",
   "mimetype": "text/x-python",
   "name": "python",
   "nbconvert_exporter": "python",
   "pygments_lexer": "ipython3",
   "version": "3.12.4"
  }
 },
 "nbformat": 4,
 "nbformat_minor": 5
}
