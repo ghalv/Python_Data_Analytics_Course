{
 "cells": [
  {
   "cell_type": "markdown",
   "id": "d867f31c",
   "metadata": {},
   "source": [
    "<a target=\"_blank\" href=\"https://colab.research.google.com/github/lukebarousse/Python_Data_Analytics_Course/blob/main/4_Problems/1_14_List Comprehensions.ipynb\">\n",
    "  <img src=\"https://colab.research.google.com/assets/colab-badge.svg\" alt=\"Open In Colab\"/>\n",
    "</a>"
   ]
  },
  {
   "cell_type": "markdown",
   "id": "9fbee277",
   "metadata": {},
   "source": [
    "## 🟩 Convert Salaries to EUR (1.14.1)"
   ]
  },
  {
   "cell_type": "code",
   "execution_count": 1,
   "id": "9bf35e2c",
   "metadata": {},
   "outputs": [
    {
     "name": "stdout",
     "output_type": "stream",
     "text": [
      "[85000.0, 102000.0, 68000.0, 76500.0]\n"
     ]
    }
   ],
   "source": [
    "# Code Needed\n",
    "salaries_usd = [100000, 120000, 80000, 90000]\n",
    "salaries_eur = [salary * 0.85 for salary in salaries_usd]\n",
    "print(salaries_eur)"
   ]
  },
  {
   "cell_type": "markdown",
   "id": "b39ae7d7",
   "metadata": {},
   "source": [
    "---"
   ]
  },
  {
   "cell_type": "markdown",
   "id": "9f4449d5",
   "metadata": {},
   "source": [
    "## 🟨 Create List of Data Jobs (1.14.2)"
   ]
  },
  {
   "cell_type": "code",
   "execution_count": null,
   "id": "9bbcdc8f",
   "metadata": {},
   "outputs": [],
   "source": [
    "# Code Needed\n",
    "job_experience = {'Data Scientist': 3, 'Data Analyst': 1, 'Machine Learning Specialist': 4, 'Data Engineer': 2}"
   ]
  },
  {
   "cell_type": "markdown",
   "id": "7df2d173",
   "metadata": {},
   "source": [
    "---"
   ]
  },
  {
   "cell_type": "markdown",
   "id": "1e81b0cb",
   "metadata": {},
   "source": [
    "## 🟥 Extract High Salary Jobs (1.14.3)"
   ]
  },
  {
   "cell_type": "code",
   "execution_count": null,
   "id": "c3d8887b",
   "metadata": {},
   "outputs": [],
   "source": [
    "# Code Needed\n",
    "job_salary_dicts = [{'job_title': 'Data Scientist', 'salary': 100000}, {'job_title': 'Data Analyst', 'salary': 120000}, {'job_title': 'Data Engineer', 'salary': 80000}, {'job_title': 'Machine Learning Engineer', 'salary': 90000}]"
   ]
  },
  {
   "cell_type": "markdown",
   "id": "fb79abd5",
   "metadata": {},
   "source": [
    "---"
   ]
  }
 ],
 "metadata": {
  "kernelspec": {
   "display_name": "Python 3 (ipykernel)",
   "language": "python",
   "name": "python3"
  },
  "language_info": {
   "codemirror_mode": {
    "name": "ipython",
    "version": 3
   },
   "file_extension": ".py",
   "mimetype": "text/x-python",
   "name": "python",
   "nbconvert_exporter": "python",
   "pygments_lexer": "ipython3",
   "version": "3.12.3"
  }
 },
 "nbformat": 4,
 "nbformat_minor": 5
}
