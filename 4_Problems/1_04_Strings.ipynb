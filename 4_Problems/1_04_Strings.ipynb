{
 "cells": [
  {
   "cell_type": "markdown",
   "id": "1ecc411a",
   "metadata": {
    "id": "1ecc411a"
   },
   "source": [
    "<a target=\"_blank\" href=\"https://colab.research.google.com/github/lukebarousse/Python_Data_Analytics_Course/blob/main/4_Problems/1_04_Strings.ipynb\">\n",
    "  <img src=\"https://colab.research.google.com/assets/colab-badge.svg\" alt=\"Open In Colab\"/>\n",
    "</a>"
   ]
  },
  {
   "cell_type": "markdown",
   "id": "c03b0f9a",
   "metadata": {
    "id": "c03b0f9a"
   },
   "source": [
    "## 🟩 Convert to Uppercase (1.4.1)"
   ]
  },
  {
   "cell_type": "code",
   "execution_count": 1,
   "id": "ed154db0",
   "metadata": {
    "colab": {
     "base_uri": "https://localhost:8080/"
    },
    "executionInfo": {
     "elapsed": 303,
     "status": "ok",
     "timestamp": 1719067291870,
     "user": {
      "displayName": "Cerex AS",
      "userId": "01498686115453394556"
     },
     "user_tz": -120
    },
    "id": "ed154db0",
    "outputId": "4d7afa49-f4bf-4ced-a29e-0a6ca7d3996e"
   },
   "outputs": [
    {
     "name": "stdout",
     "output_type": "stream",
     "text": [
      "DATA SCIENTIST\n"
     ]
    }
   ],
   "source": [
    "# Code Needed\n",
    "job_title = 'data scientist'\n",
    "job_title = job_title.upper()\n",
    "print(job_title)"
   ]
  },
  {
   "cell_type": "markdown",
   "id": "352397ff",
   "metadata": {
    "id": "352397ff"
   },
   "source": [
    "---"
   ]
  },
  {
   "cell_type": "markdown",
   "id": "4203b265",
   "metadata": {
    "id": "4203b265"
   },
   "source": [
    "## 🟩 Replace Substring (1.4.2)"
   ]
  },
  {
   "cell_type": "code",
   "execution_count": 2,
   "id": "9088a3fb",
   "metadata": {
    "colab": {
     "base_uri": "https://localhost:8080/"
    },
    "executionInfo": {
     "elapsed": 280,
     "status": "ok",
     "timestamp": 1719067410458,
     "user": {
      "displayName": "Cerex AS",
      "userId": "01498686115453394556"
     },
     "user_tz": -120
    },
    "id": "9088a3fb",
    "outputId": "1107f7b6-f9b3-45b8-d936-0cbc64f41d95"
   },
   "outputs": [
    {
     "name": "stdout",
     "output_type": "stream",
     "text": [
      "Data Engineer\n"
     ]
    }
   ],
   "source": [
    "# Code Needed\n",
    "job_title = 'Data Analyst'\n",
    "job_title = job_title.replace('Analyst', 'Engineer')\n",
    "print(job_title)"
   ]
  },
  {
   "cell_type": "markdown",
   "id": "d3b7cb4d",
   "metadata": {
    "id": "d3b7cb4d"
   },
   "source": [
    "---"
   ]
  },
  {
   "cell_type": "markdown",
   "id": "23c6e347",
   "metadata": {
    "id": "23c6e347"
   },
   "source": [
    "## 🟨 Concatenate Strings (1.4.3)"
   ]
  },
  {
   "cell_type": "code",
   "execution_count": 3,
   "id": "1c7fb9f8",
   "metadata": {
    "colab": {
     "base_uri": "https://localhost:8080/"
    },
    "executionInfo": {
     "elapsed": 321,
     "status": "ok",
     "timestamp": 1719067739172,
     "user": {
      "displayName": "Cerex AS",
      "userId": "01498686115453394556"
     },
     "user_tz": -120
    },
    "id": "1c7fb9f8",
    "outputId": "33c22426-72cc-48ef-f527-7a5031ac5355"
   },
   "outputs": [
    {
     "name": "stdout",
     "output_type": "stream",
     "text": [
      "Senior Data Analyst\n"
     ]
    }
   ],
   "source": [
    "# Code Needed\n",
    "seniority_level = 'Senior'\n",
    "job_title = 'Data Analyst'\n",
    "job_title = seniority_level + ' ' + job_title\n",
    "print(job_title)"
   ]
  },
  {
   "cell_type": "markdown",
   "id": "cc76f111",
   "metadata": {
    "id": "cc76f111"
   },
   "source": [
    "---"
   ]
  },
  {
   "cell_type": "markdown",
   "id": "ec722767",
   "metadata": {
    "id": "ec722767"
   },
   "source": [
    "## 🟨 Check String Length (1.4.4)"
   ]
  },
  {
   "cell_type": "code",
   "execution_count": 4,
   "id": "9f81d0d5",
   "metadata": {
    "colab": {
     "base_uri": "https://localhost:8080/"
    },
    "executionInfo": {
     "elapsed": 333,
     "status": "ok",
     "timestamp": 1719067781144,
     "user": {
      "displayName": "Cerex AS",
      "userId": "01498686115453394556"
     },
     "user_tz": -120
    },
    "id": "9f81d0d5",
    "outputId": "54e7d1f2-aa30-4eac-c3d6-1a4debf7c336"
   },
   "outputs": [
    {
     "data": {
      "text/plain": [
       "14"
      ]
     },
     "execution_count": 4,
     "metadata": {},
     "output_type": "execute_result"
    }
   ],
   "source": [
    "# Code Needed\n",
    "job_title = 'Data Scientist'\n",
    "len(job_title)"
   ]
  },
  {
   "cell_type": "markdown",
   "id": "4a8d3a3c",
   "metadata": {
    "id": "4a8d3a3c"
   },
   "source": [
    "---"
   ]
  },
  {
   "cell_type": "markdown",
   "id": "c41c4f1a",
   "metadata": {
    "id": "c41c4f1a"
   },
   "source": [
    "## 🟩 Convert to lowercase (1.4.5)"
   ]
  },
  {
   "cell_type": "code",
   "execution_count": 5,
   "id": "74a3336c",
   "metadata": {
    "colab": {
     "base_uri": "https://localhost:8080/"
    },
    "executionInfo": {
     "elapsed": 296,
     "status": "ok",
     "timestamp": 1719067814621,
     "user": {
      "displayName": "Cerex AS",
      "userId": "01498686115453394556"
     },
     "user_tz": -120
    },
    "id": "74a3336c",
    "outputId": "eb0d7d6d-10cd-4570-fd8b-ba17f39a35e9"
   },
   "outputs": [
    {
     "name": "stdout",
     "output_type": "stream",
     "text": [
      "data engineer\n"
     ]
    }
   ],
   "source": [
    "# Code Needed\n",
    "job_title = 'DATA ENGINEER'\n",
    "job_title = job_title.lower()\n",
    "print(job_title)"
   ]
  },
  {
   "cell_type": "markdown",
   "id": "bfce44ab",
   "metadata": {
    "id": "bfce44ab"
   },
   "source": [
    "---"
   ]
  }
 ],
 "metadata": {
  "colab": {
   "provenance": [
    {
     "file_id": "https://github.com/lukebarousse/Python_Data_Analytics_Course/blob/main/4_Problems/1_04_Strings.ipynb",
     "timestamp": 1719067196884
    }
   ]
  },
  "kernelspec": {
   "display_name": "Python 3 (ipykernel)",
   "language": "python",
   "name": "python3"
  },
  "language_info": {
   "codemirror_mode": {
    "name": "ipython",
    "version": 3
   },
   "file_extension": ".py",
   "mimetype": "text/x-python",
   "name": "python",
   "nbconvert_exporter": "python",
   "pygments_lexer": "ipython3",
   "version": "3.12.4"
  }
 },
 "nbformat": 4,
 "nbformat_minor": 5
}
